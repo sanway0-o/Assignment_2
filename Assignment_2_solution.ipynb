{
 "cells": [
  {
   "cell_type": "raw",
   "id": "356aac87",
   "metadata": {},
   "source": [
    "1.The two values of Boolean data type are True and False. It is written using capital T and F, with the rest of the word in lowercase(True, False)."
   ]
  },
  {
   "cell_type": "raw",
   "id": "ae36353f",
   "metadata": {},
   "source": [
    "2. Three different types of boolean operators are and, or, and not."
   ]
  },
  {
   "cell_type": "raw",
   "id": "5680162b",
   "metadata": {},
   "source": [
    "3. List of each Boolean operator's truth table:\n",
    "   \n",
    "    True and True is True.\n",
    "\n",
    "    True and False is False.\n",
    "\n",
    "    False and True is False.\n",
    "\n",
    "    False and False is False.\n",
    "\n",
    "    True or True is True.\n",
    "\n",
    "    True or False is True.\n",
    "\n",
    "    False or True is True.\n",
    "\n",
    "    False or False is False.\n",
    "\n",
    "    not True is False.\n",
    "\n",
    "    not False is True. "
   ]
  },
  {
   "cell_type": "raw",
   "id": "31d164b4",
   "metadata": {},
   "source": [
    "4. (5 > 4) and (3 == 5) : False\n",
    "   \n",
    "   not (5 > 4) : False\n",
    "   \n",
    "   (5 > 4) or (3 == 5) : True\n",
    "   \n",
    "   not ((5 > 4) or (3 == 5)) : False\n",
    "   \n",
    "   (True and True) and (True == False) : False\n",
    "   \n",
    "   (not False) or (not True) : True\n"
   ]
  },
  {
   "cell_type": "raw",
   "id": "d53ddaea",
   "metadata": {},
   "source": [
    "5. The six comparison operators are :\n",
    "    ==, !=, <, >, <=, and >="
   ]
  },
  {
   "cell_type": "raw",
   "id": "3ba854c0",
   "metadata": {},
   "source": [
    "6. == is the equal to operator that compares two values and evaluates to a Boolean, while = is the assignment operator that stores a value in a variable."
   ]
  },
  {
   "cell_type": "raw",
   "id": "87674dc7",
   "metadata": {},
   "source": [
    "7. The three blocks are everything inside the if statement and the lines print('bacon') and print('ham')"
   ]
  },
  {
   "cell_type": "code",
   "execution_count": null,
   "id": "24c19475",
   "metadata": {},
   "outputs": [],
   "source": [
    "8. ##The code is given below:\n",
    "spam = input(f\"Enter the Number:\")\n",
    "if spam == 1:\n",
    "    print('Hello')\n",
    "elif spam == 2:\n",
    "    print('Howdy')\n",
    "else:\n",
    "    print('Greetings!')"
   ]
  },
  {
   "cell_type": "raw",
   "id": "3b9d8d9e",
   "metadata": {},
   "source": [
    "9. CTRL-C"
   ]
  },
  {
   "cell_type": "raw",
   "id": "f51b45da",
   "metadata": {},
   "source": [
    "10. The break statement will move the execution outside and just after a loop. The continue statement will move the execution to the start of the loop."
   ]
  },
  {
   "cell_type": "raw",
   "id": "d43bfb4d",
   "metadata": {},
   "source": [
    "11. They all do the same thing. The range(10) call ranges from 0 up to (but not including) 10, range(0, 10) explicitly tells the loop to start at 0, and range(0, 10, 1) explicitly tells the loop to increase the variable by 1 on each iteration."
   ]
  },
  {
   "cell_type": "code",
   "execution_count": null,
   "id": "62d35816",
   "metadata": {},
   "outputs": [],
   "source": [
    "#12. the code is given below-\n",
    "#for loop\n",
    "for i in range(1, 11):\n",
    "    print(i)\n",
    "#while loop\n",
    "i = 1\n",
    "while i <= 10:\n",
    "    print(i)\n",
    "    i = i + 1"
   ]
  },
  {
   "cell_type": "raw",
   "id": "b217046d",
   "metadata": {},
   "source": [
    "13. This function can be called using spam.bacon()."
   ]
  },
  {
   "cell_type": "code",
   "execution_count": null,
   "id": "85e29eb9",
   "metadata": {},
   "outputs": [],
   "source": []
  }
 ],
 "metadata": {
  "kernelspec": {
   "display_name": "Python 3 (ipykernel)",
   "language": "python",
   "name": "python3"
  },
  "language_info": {
   "codemirror_mode": {
    "name": "ipython",
    "version": 3
   },
   "file_extension": ".py",
   "mimetype": "text/x-python",
   "name": "python",
   "nbconvert_exporter": "python",
   "pygments_lexer": "ipython3",
   "version": "3.11.3"
  }
 },
 "nbformat": 4,
 "nbformat_minor": 5
}
